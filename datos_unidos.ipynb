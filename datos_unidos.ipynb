{
 "cells": [
  {
   "cell_type": "code",
   "execution_count": 1,
   "metadata": {},
   "outputs": [],
   "source": [
    "# Importamos las librerías que necesitamos\n",
    "# \n",
    "# Tratamiento de datos\n",
    "# -----------------------------------------------------------------------\n",
    "import pandas as pd\n",
    "import numpy as np\n",
    "\n",
    "# Imputación de nulos usando métodos avanzados estadísticos\n",
    "# -----------------------------------------------------------------------\n",
    "from sklearn.impute import SimpleImputer\n",
    "from sklearn.experimental import enable_iterative_imputer\n",
    "from sklearn.impute import IterativeImputer\n",
    "from sklearn.impute import KNNImputer\n",
    "\n",
    "# Librerías de visualización\n",
    "# -----------------------------------------------------------------------\n",
    "import seaborn as sns\n",
    "import matplotlib.pyplot as plt\n",
    "\n",
    "# Evaluar linealidad de las relaciones entre las variables\n",
    "# ------------------------------------------------------------------------------\n",
    "from scipy.stats import shapiro, kstest\n",
    "\n",
    "\n",
    "# Configuraciones\n",
    "# -----------------------------------------------------------------------\n",
    "pd.set_option('display.max_columns', None)\n",
    "pd.set_option('display.max_colwidth', None)"
   ]
  },
  {
   "cell_type": "markdown",
   "metadata": {},
   "source": [
    "Ahora puedo unir los dos dataframes. Lo haremos con merge, usando la columna común Loyalty Number y con un left join. "
   ]
  },
  {
   "cell_type": "code",
   "execution_count": 2,
   "metadata": {},
   "outputs": [],
   "source": [
    "# De cara a unir las tablas, usaremos un merge con la columna común Loyalty Number \n",
    "\n",
    "df_CFA = pd.read_csv('datos_limpios_CFA.csv', index_col=0)   # (403760, 12)\n",
    "\n",
    "df_CLH = pd.read_csv('datos_limpios_CLH.csv', index_col=0)   # (16737, 16)"
   ]
  },
  {
   "cell_type": "code",
   "execution_count": 3,
   "metadata": {},
   "outputs": [],
   "source": [
    "df = pd.merge(left=df_CFA, right=df_CLH, on= \"Loyalty Number\", how='left')"
   ]
  },
  {
   "cell_type": "code",
   "execution_count": 4,
   "metadata": {},
   "outputs": [
    {
     "data": {
      "text/plain": [
       "(403760, 27)"
      ]
     },
     "execution_count": 4,
     "metadata": {},
     "output_type": "execute_result"
    }
   ],
   "source": [
    "df.shape   "
   ]
  },
  {
   "cell_type": "code",
   "execution_count": 5,
   "metadata": {},
   "outputs": [
    {
     "name": "stdout",
     "output_type": "stream",
     "text": [
      "<class 'pandas.core.frame.DataFrame'>\n",
      "RangeIndex: 403760 entries, 0 to 403759\n",
      "Data columns (total 27 columns):\n",
      " #   Column                       Non-Null Count   Dtype  \n",
      "---  ------                       --------------   -----  \n",
      " 0   Loyalty Number               403760 non-null  int64  \n",
      " 1   Year                         403760 non-null  int64  \n",
      " 2   Month                        403760 non-null  int64  \n",
      " 3   Flights Booked               403760 non-null  int64  \n",
      " 4   Flights with Companions      403760 non-null  int64  \n",
      " 5   Total Flights                403760 non-null  int64  \n",
      " 6   Distance                     403760 non-null  int64  \n",
      " 7   Points Accumulated           403760 non-null  float64\n",
      " 8   Points Redeemed              403760 non-null  int64  \n",
      " 9   Dollar Cost Points Redeemed  403760 non-null  int64  \n",
      " 10  Points Accumulate            403760 non-null  int64  \n",
      " 11  id_year_month                403760 non-null  object \n",
      " 12  Country                      403760 non-null  object \n",
      " 13  Province                     403760 non-null  object \n",
      " 14  City                         403760 non-null  object \n",
      " 15  Postal Code                  403760 non-null  object \n",
      " 16  Gender                       403760 non-null  object \n",
      " 17  Education                    403760 non-null  object \n",
      " 18  Salary                       301500 non-null  float64\n",
      " 19  Marital Status               403760 non-null  object \n",
      " 20  Loyalty Card                 403760 non-null  object \n",
      " 21  CLV                          403760 non-null  float64\n",
      " 22  Enrollment Type              403760 non-null  object \n",
      " 23  Enrollment Year              403760 non-null  int64  \n",
      " 24  Enrollment Month             403760 non-null  int64  \n",
      " 25  Cancellation Year            403760 non-null  object \n",
      " 26  Cancellation Month           403760 non-null  object \n",
      "dtypes: float64(3), int64(12), object(12)\n",
      "memory usage: 83.2+ MB\n"
     ]
    }
   ],
   "source": [
    "df.info()"
   ]
  },
  {
   "cell_type": "markdown",
   "metadata": {},
   "source": [
    "Vuelvo a cambiar los tipos de las columnas a object."
   ]
  },
  {
   "cell_type": "code",
   "execution_count": 6,
   "metadata": {},
   "outputs": [],
   "source": [
    "df['Loyalty Number'] = df['Loyalty Number'].astype('object')\n",
    "df['Year'] = df['Year'].astype('object')\n",
    "df['Month'] = df['Month'].astype('object')"
   ]
  },
  {
   "cell_type": "code",
   "execution_count": 7,
   "metadata": {},
   "outputs": [
    {
     "data": {
      "text/plain": [
       "Loyalty Number                  object\n",
       "Year                            object\n",
       "Month                           object\n",
       "Flights Booked                   int64\n",
       "Flights with Companions          int64\n",
       "Total Flights                    int64\n",
       "Distance                         int64\n",
       "Points Accumulated             float64\n",
       "Points Redeemed                  int64\n",
       "Dollar Cost Points Redeemed      int64\n",
       "Points Accumulate                int64\n",
       "id_year_month                   object\n",
       "Country                         object\n",
       "Province                        object\n",
       "City                            object\n",
       "Postal Code                     object\n",
       "Gender                          object\n",
       "Education                       object\n",
       "Salary                         float64\n",
       "Marital Status                  object\n",
       "Loyalty Card                    object\n",
       "CLV                            float64\n",
       "Enrollment Type                 object\n",
       "Enrollment Year                  int64\n",
       "Enrollment Month                 int64\n",
       "Cancellation Year               object\n",
       "Cancellation Month              object\n",
       "dtype: object"
      ]
     },
     "execution_count": 7,
     "metadata": {},
     "output_type": "execute_result"
    }
   ],
   "source": [
    "df.dtypes"
   ]
  },
  {
   "cell_type": "code",
   "execution_count": 8,
   "metadata": {},
   "outputs": [
    {
     "data": {
      "text/plain": [
       "Salary    102260\n",
       "dtype: int64"
      ]
     },
     "execution_count": 8,
     "metadata": {},
     "output_type": "execute_result"
    }
   ],
   "source": [
    "df.isnull().sum()[df.isnull().sum()>0] # Estudiamos valores nulos. "
   ]
  },
  {
   "cell_type": "code",
   "execution_count": 9,
   "metadata": {},
   "outputs": [
    {
     "data": {
      "text/plain": [
       "Salary    102260\n",
       "dtype: int64"
      ]
     },
     "execution_count": 9,
     "metadata": {},
     "output_type": "execute_result"
    }
   ],
   "source": [
    "# Hay 102260 nulos en Salary.\n",
    "\n",
    "total_nulos = df.isnull().sum()[df.isnull().sum()>0]\n",
    "total_nulos"
   ]
  },
  {
   "cell_type": "code",
   "execution_count": 10,
   "metadata": {},
   "outputs": [
    {
     "data": {
      "text/plain": [
       "Salary    25.0\n",
       "dtype: float64"
      ]
     },
     "execution_count": 10,
     "metadata": {},
     "output_type": "execute_result"
    }
   ],
   "source": [
    "proporcion_nulos = 100*np.round(total_nulos/df.shape[0], 2)\n",
    "proporcion_nulos"
   ]
  },
  {
   "cell_type": "markdown",
   "metadata": {},
   "source": [
    "Hay un 25% de nulos en la columna 'Salary'. Son demasiados. "
   ]
  },
  {
   "cell_type": "code",
   "execution_count": 11,
   "metadata": {},
   "outputs": [
    {
     "data": {
      "text/plain": [
       "count    301500.000000\n",
       "mean      79258.576285\n",
       "std       34983.929798\n",
       "min      -58486.000000\n",
       "25%       59262.000000\n",
       "50%       73479.000000\n",
       "75%       88606.000000\n",
       "max      407228.000000\n",
       "Name: Salary, dtype: float64"
      ]
     },
     "execution_count": 11,
     "metadata": {},
     "output_type": "execute_result"
    }
   ],
   "source": [
    "df['Salary'].describe()"
   ]
  },
  {
   "cell_type": "markdown",
   "metadata": {},
   "source": [
    "Alertados por el estadístico min = -58486, identificamos que hay 480 valores negativos."
   ]
  },
  {
   "cell_type": "code",
   "execution_count": 12,
   "metadata": {},
   "outputs": [
    {
     "data": {
      "text/plain": [
       "291      -10605.0\n",
       "956      -58486.0\n",
       "1716     -31911.0\n",
       "2081     -49001.0\n",
       "2433     -46683.0\n",
       "           ...   \n",
       "398813   -46303.0\n",
       "399884   -34079.0\n",
       "402017   -57297.0\n",
       "402459   -17534.0\n",
       "403021   -12497.0\n",
       "Name: Salary, Length: 480, dtype: float64"
      ]
     },
     "execution_count": 12,
     "metadata": {},
     "output_type": "execute_result"
    }
   ],
   "source": [
    "df['Salary'][df['Salary']<0]"
   ]
  },
  {
   "cell_type": "markdown",
   "metadata": {},
   "source": [
    "Los pasamos a positivo, pero sigue habiendo nulos."
   ]
  },
  {
   "cell_type": "code",
   "execution_count": 13,
   "metadata": {},
   "outputs": [],
   "source": [
    "df['Salary'] = df['Salary'].apply(lambda x: abs(x))"
   ]
  },
  {
   "cell_type": "code",
   "execution_count": 14,
   "metadata": {},
   "outputs": [
    {
     "data": {
      "text/plain": [
       "Series([], Name: Salary, dtype: float64)"
      ]
     },
     "execution_count": 14,
     "metadata": {},
     "output_type": "execute_result"
    }
   ],
   "source": [
    "df['Salary'][df['Salary']<0] "
   ]
  },
  {
   "cell_type": "code",
   "execution_count": 15,
   "metadata": {},
   "outputs": [
    {
     "data": {
      "text/plain": [
       "102260"
      ]
     },
     "execution_count": 15,
     "metadata": {},
     "output_type": "execute_result"
    }
   ],
   "source": [
    "df['Salary'].isnull().sum()"
   ]
  },
  {
   "cell_type": "markdown",
   "metadata": {},
   "source": [
    "Buscamos valores atípicos con visualización."
   ]
  },
  {
   "cell_type": "code",
   "execution_count": 16,
   "metadata": {},
   "outputs": [
    {
     "data": {
      "image/png": "[encoded data removed]",
      "text/plain": [
       "<Figure size 640x480 with 1 Axes>"
      ]
     },
     "metadata": {},
     "output_type": "display_data"
    }
   ],
   "source": [
    "# Por los datos se intuyen algunos outliers en las columnas, pero veremos mejor si tenemos valores atípicos con visualización. \n",
    "\n",
    "sns.boxplot(x = 'Salary', data = df)\n",
    "\n",
    "plt.title(\"Distribución de valores de la columna Salary\");"
   ]
  },
  {
   "cell_type": "markdown",
   "metadata": {},
   "source": [
    "Hay muchos atípicos. Imputaremos los nulos con imputación compleja."
   ]
  },
  {
   "cell_type": "code",
   "execution_count": 17,
   "metadata": {},
   "outputs": [
    {
     "data": {
      "text/plain": [
       "array([[92552.        ],\n",
       "       [79371.73290216],\n",
       "       [79371.73290216],\n",
       "       ...,\n",
       "       [47670.        ],\n",
       "       [79371.73290216],\n",
       "       [46594.        ]])"
      ]
     },
     "execution_count": 17,
     "metadata": {},
     "output_type": "execute_result"
    }
   ],
   "source": [
    "# Método IterativeImputer del módulo impute de scikit-learn\n",
    "    \n",
    "imputer = IterativeImputer(max_iter= 20, random_state=42)\n",
    "\n",
    "imputer_iterative_imputado = imputer.fit_transform(df[['Salary']])\n",
    "\n",
    "imputer_iterative_imputado"
   ]
  },
  {
   "cell_type": "markdown",
   "metadata": {},
   "source": [
    "Lo suyo sería imputar con INN y KNN y quedarnos con el que menos modifique los estadísticos de la distribución original.\n",
    "\n",
    "Sin embargo, con la cantidad de datos tan grande que tenemos, KNN tarda mucho y mejor voy a avanzar.\n",
    "\n",
    "Me quedo directamente con la imputación de Interactiva Imputer. "
   ]
  },
  {
   "cell_type": "code",
   "execution_count": 18,
   "metadata": {},
   "outputs": [
    {
     "data": {
      "text/plain": [
       "0          92552.000000\n",
       "1          79371.732902\n",
       "2          79371.732902\n",
       "3          63253.000000\n",
       "4          91163.000000\n",
       "              ...      \n",
       "403755     79371.732902\n",
       "403756    217943.000000\n",
       "403757     47670.000000\n",
       "403758     79371.732902\n",
       "403759     46594.000000\n",
       "Name: Salary, Length: 403760, dtype: float64"
      ]
     },
     "execution_count": 18,
     "metadata": {},
     "output_type": "execute_result"
    }
   ],
   "source": [
    "df['Salary'] = imputer_iterative_imputado\n",
    "df['Salary']"
   ]
  },
  {
   "cell_type": "code",
   "execution_count": 19,
   "metadata": {},
   "outputs": [
    {
     "data": {
      "text/plain": [
       "Series([], dtype: int64)"
      ]
     },
     "execution_count": 19,
     "metadata": {},
     "output_type": "execute_result"
    }
   ],
   "source": [
    "df.isnull().sum()[df.isnull().sum()>0] # Compruebo que ya no tengo nulos."
   ]
  },
  {
   "cell_type": "code",
   "execution_count": 20,
   "metadata": {},
   "outputs": [],
   "source": [
    "df.to_csv(\"datos_aerolinea.csv\")"
   ]
  }
 ],
 "metadata": {
  "kernelspec": {
   "display_name": "base",
   "language": "python",
   "name": "python3"
  },
  "language_info": {
   "codemirror_mode": {
    "name": "ipython",
    "version": 3
   },
   "file_extension": ".py",
   "mimetype": "text/x-python",
   "name": "python",
   "nbconvert_exporter": "python",
   "pygments_lexer": "ipython3",
   "version": "3.12.4"
  }
 },
 "nbformat": 4,
 "nbformat_minor": 2
}
